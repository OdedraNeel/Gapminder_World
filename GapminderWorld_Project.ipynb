{
 "cells": [
  {
   "cell_type": "code",
   "execution_count": 275,
   "id": "dbe168aa-60de-4d13-91ee-2816542461d4",
   "metadata": {},
   "outputs": [],
   "source": [
    "import numpy as np\n",
    "import pandas as pd\n",
    "import matplotlib.pyplot as plt\n",
    "import warnings\n",
    "warnings.filterwarnings('ignore')"
   ]
  },
  {
   "cell_type": "code",
   "execution_count": null,
   "id": "357f37d0-f283-4eb3-80f0-3a304734a46e",
   "metadata": {},
   "outputs": [],
   "source": [
    "# Import Data"
   ]
  },
  {
   "cell_type": "code",
   "execution_count": 198,
   "id": "aaaa6edd-aea0-419a-b8c5-6fe2c97d902d",
   "metadata": {},
   "outputs": [],
   "source": [
    "Gapminder_df = pd.read_csv('C:/Users\\Admin\\Downloads\\gapminder_full.csv')"
   ]
  },
  {
   "cell_type": "code",
   "execution_count": null,
   "id": "0ae13a91-9ba5-48a5-b0b1-1bfb3ba4fc29",
   "metadata": {},
   "outputs": [],
   "source": [
    "# Data Frame"
   ]
  },
  {
   "cell_type": "code",
   "execution_count": 199,
   "id": "6ca97a33-5171-4dd3-b9bb-bc51e4797ee4",
   "metadata": {},
   "outputs": [
    {
     "data": {
      "text/html": [
       "<div>\n",
       "<style scoped>\n",
       "    .dataframe tbody tr th:only-of-type {\n",
       "        vertical-align: middle;\n",
       "    }\n",
       "\n",
       "    .dataframe tbody tr th {\n",
       "        vertical-align: top;\n",
       "    }\n",
       "\n",
       "    .dataframe thead th {\n",
       "        text-align: right;\n",
       "    }\n",
       "</style>\n",
       "<table border=\"1\" class=\"dataframe\">\n",
       "  <thead>\n",
       "    <tr style=\"text-align: right;\">\n",
       "      <th></th>\n",
       "      <th>country</th>\n",
       "      <th>year</th>\n",
       "      <th>population</th>\n",
       "      <th>continent</th>\n",
       "      <th>life_exp</th>\n",
       "      <th>gdp_cap</th>\n",
       "    </tr>\n",
       "  </thead>\n",
       "  <tbody>\n",
       "    <tr>\n",
       "      <th>0</th>\n",
       "      <td>Afghanistan</td>\n",
       "      <td>1952</td>\n",
       "      <td>8425333</td>\n",
       "      <td>Asia</td>\n",
       "      <td>28.801</td>\n",
       "      <td>779.445314</td>\n",
       "    </tr>\n",
       "    <tr>\n",
       "      <th>1</th>\n",
       "      <td>Afghanistan</td>\n",
       "      <td>1957</td>\n",
       "      <td>9240934</td>\n",
       "      <td>Asia</td>\n",
       "      <td>30.332</td>\n",
       "      <td>820.853030</td>\n",
       "    </tr>\n",
       "    <tr>\n",
       "      <th>2</th>\n",
       "      <td>Afghanistan</td>\n",
       "      <td>1962</td>\n",
       "      <td>10267083</td>\n",
       "      <td>Asia</td>\n",
       "      <td>31.997</td>\n",
       "      <td>853.100710</td>\n",
       "    </tr>\n",
       "    <tr>\n",
       "      <th>3</th>\n",
       "      <td>Afghanistan</td>\n",
       "      <td>1967</td>\n",
       "      <td>11537966</td>\n",
       "      <td>Asia</td>\n",
       "      <td>34.020</td>\n",
       "      <td>836.197138</td>\n",
       "    </tr>\n",
       "    <tr>\n",
       "      <th>4</th>\n",
       "      <td>Afghanistan</td>\n",
       "      <td>1972</td>\n",
       "      <td>13079460</td>\n",
       "      <td>Asia</td>\n",
       "      <td>36.088</td>\n",
       "      <td>739.981106</td>\n",
       "    </tr>\n",
       "  </tbody>\n",
       "</table>\n",
       "</div>"
      ],
      "text/plain": [
       "       country  year  population continent  life_exp     gdp_cap\n",
       "0  Afghanistan  1952     8425333      Asia    28.801  779.445314\n",
       "1  Afghanistan  1957     9240934      Asia    30.332  820.853030\n",
       "2  Afghanistan  1962    10267083      Asia    31.997  853.100710\n",
       "3  Afghanistan  1967    11537966      Asia    34.020  836.197138\n",
       "4  Afghanistan  1972    13079460      Asia    36.088  739.981106"
      ]
     },
     "execution_count": 199,
     "metadata": {},
     "output_type": "execute_result"
    }
   ],
   "source": [
    "Gapminder_df.head()"
   ]
  },
  {
   "cell_type": "code",
   "execution_count": null,
   "id": "628a5f74-24ab-4479-9173-8c184c1c0330",
   "metadata": {},
   "outputs": [],
   "source": [
    "# No. of countries"
   ]
  },
  {
   "cell_type": "code",
   "execution_count": 200,
   "id": "18d10597-42ff-4da8-b7f8-49ed09916a8b",
   "metadata": {},
   "outputs": [
    {
     "data": {
      "text/plain": [
       "142"
      ]
     },
     "execution_count": 200,
     "metadata": {},
     "output_type": "execute_result"
    }
   ],
   "source": [
    "Gapminder_df['country'].nunique()"
   ]
  },
  {
   "cell_type": "code",
   "execution_count": null,
   "id": "fb4d3fc1-5e11-424a-81af-813d0d09fc88",
   "metadata": {},
   "outputs": [],
   "source": [
    "# Create a pivot table that shows the average life expectancy for each continent and year.\n",
    "# Index by 'continent', use 'year' as columns, and 'life_exp' as values."
   ]
  },
  {
   "cell_type": "code",
   "execution_count": 202,
   "id": "819ca723-79e3-4ce7-a53a-41dc396005c0",
   "metadata": {},
   "outputs": [
    {
     "data": {
      "text/html": [
       "<div>\n",
       "<style scoped>\n",
       "    .dataframe tbody tr th:only-of-type {\n",
       "        vertical-align: middle;\n",
       "    }\n",
       "\n",
       "    .dataframe tbody tr th {\n",
       "        vertical-align: top;\n",
       "    }\n",
       "\n",
       "    .dataframe thead th {\n",
       "        text-align: right;\n",
       "    }\n",
       "</style>\n",
       "<table border=\"1\" class=\"dataframe\">\n",
       "  <thead>\n",
       "    <tr style=\"text-align: right;\">\n",
       "      <th>year</th>\n",
       "      <th>1952</th>\n",
       "      <th>1957</th>\n",
       "      <th>1962</th>\n",
       "      <th>1967</th>\n",
       "      <th>1972</th>\n",
       "      <th>1977</th>\n",
       "      <th>1982</th>\n",
       "      <th>1987</th>\n",
       "      <th>1992</th>\n",
       "      <th>1997</th>\n",
       "      <th>2002</th>\n",
       "      <th>2007</th>\n",
       "    </tr>\n",
       "    <tr>\n",
       "      <th>continent</th>\n",
       "      <th></th>\n",
       "      <th></th>\n",
       "      <th></th>\n",
       "      <th></th>\n",
       "      <th></th>\n",
       "      <th></th>\n",
       "      <th></th>\n",
       "      <th></th>\n",
       "      <th></th>\n",
       "      <th></th>\n",
       "      <th></th>\n",
       "      <th></th>\n",
       "    </tr>\n",
       "  </thead>\n",
       "  <tbody>\n",
       "    <tr>\n",
       "      <th>Africa</th>\n",
       "      <td>39.135500</td>\n",
       "      <td>41.266346</td>\n",
       "      <td>43.319442</td>\n",
       "      <td>45.334538</td>\n",
       "      <td>47.450942</td>\n",
       "      <td>49.580423</td>\n",
       "      <td>51.592865</td>\n",
       "      <td>53.344788</td>\n",
       "      <td>53.629577</td>\n",
       "      <td>53.598269</td>\n",
       "      <td>53.325231</td>\n",
       "      <td>54.806038</td>\n",
       "    </tr>\n",
       "    <tr>\n",
       "      <th>Americas</th>\n",
       "      <td>53.279840</td>\n",
       "      <td>55.960280</td>\n",
       "      <td>58.398760</td>\n",
       "      <td>60.410920</td>\n",
       "      <td>62.394920</td>\n",
       "      <td>64.391560</td>\n",
       "      <td>66.228840</td>\n",
       "      <td>68.090720</td>\n",
       "      <td>69.568360</td>\n",
       "      <td>71.150480</td>\n",
       "      <td>72.422040</td>\n",
       "      <td>73.608120</td>\n",
       "    </tr>\n",
       "    <tr>\n",
       "      <th>Asia</th>\n",
       "      <td>46.314394</td>\n",
       "      <td>49.318544</td>\n",
       "      <td>51.563223</td>\n",
       "      <td>54.663640</td>\n",
       "      <td>57.319269</td>\n",
       "      <td>59.610556</td>\n",
       "      <td>62.617939</td>\n",
       "      <td>64.851182</td>\n",
       "      <td>66.537212</td>\n",
       "      <td>68.020515</td>\n",
       "      <td>69.233879</td>\n",
       "      <td>70.728485</td>\n",
       "    </tr>\n",
       "    <tr>\n",
       "      <th>Europe</th>\n",
       "      <td>64.408500</td>\n",
       "      <td>66.703067</td>\n",
       "      <td>68.539233</td>\n",
       "      <td>69.737600</td>\n",
       "      <td>70.775033</td>\n",
       "      <td>71.937767</td>\n",
       "      <td>72.806400</td>\n",
       "      <td>73.642167</td>\n",
       "      <td>74.440100</td>\n",
       "      <td>75.505167</td>\n",
       "      <td>76.700600</td>\n",
       "      <td>77.648600</td>\n",
       "    </tr>\n",
       "    <tr>\n",
       "      <th>Oceania</th>\n",
       "      <td>69.255000</td>\n",
       "      <td>70.295000</td>\n",
       "      <td>71.085000</td>\n",
       "      <td>71.310000</td>\n",
       "      <td>71.910000</td>\n",
       "      <td>72.855000</td>\n",
       "      <td>74.290000</td>\n",
       "      <td>75.320000</td>\n",
       "      <td>76.945000</td>\n",
       "      <td>78.190000</td>\n",
       "      <td>79.740000</td>\n",
       "      <td>80.719500</td>\n",
       "    </tr>\n",
       "  </tbody>\n",
       "</table>\n",
       "</div>"
      ],
      "text/plain": [
       "year            1952       1957       1962       1967       1972       1977  \\\n",
       "continent                                                                     \n",
       "Africa     39.135500  41.266346  43.319442  45.334538  47.450942  49.580423   \n",
       "Americas   53.279840  55.960280  58.398760  60.410920  62.394920  64.391560   \n",
       "Asia       46.314394  49.318544  51.563223  54.663640  57.319269  59.610556   \n",
       "Europe     64.408500  66.703067  68.539233  69.737600  70.775033  71.937767   \n",
       "Oceania    69.255000  70.295000  71.085000  71.310000  71.910000  72.855000   \n",
       "\n",
       "year            1982       1987       1992       1997       2002       2007  \n",
       "continent                                                                    \n",
       "Africa     51.592865  53.344788  53.629577  53.598269  53.325231  54.806038  \n",
       "Americas   66.228840  68.090720  69.568360  71.150480  72.422040  73.608120  \n",
       "Asia       62.617939  64.851182  66.537212  68.020515  69.233879  70.728485  \n",
       "Europe     72.806400  73.642167  74.440100  75.505167  76.700600  77.648600  \n",
       "Oceania    74.290000  75.320000  76.945000  78.190000  79.740000  80.719500  "
      ]
     },
     "execution_count": 202,
     "metadata": {},
     "output_type": "execute_result"
    }
   ],
   "source": [
    "Avg_Life_Expectancy = pd.pivot_table(Gapminder_df, values = 'life_exp', index = 'continent', columns = 'year')\n",
    "Avg_Life_Expectancy"
   ]
  },
  {
   "cell_type": "code",
   "execution_count": null,
   "id": "f0b8e0df-bc7b-4d3a-abeb-9c204fdb74d4",
   "metadata": {},
   "outputs": [],
   "source": [
    "# Which countries had a GDP per capita higher than the 75th percentile in 2007?"
   ]
  },
  {
   "cell_type": "code",
   "execution_count": 203,
   "id": "c9424492-66e1-4fdb-9170-b2fdb3630a7b",
   "metadata": {},
   "outputs": [
    {
     "data": {
      "text/plain": [
       "59                Argentina\n",
       "71                Australia\n",
       "83                  Austria\n",
       "95                  Bahrain\n",
       "119                 Belgium\n",
       "167                Botswana\n",
       "191                Bulgaria\n",
       "251                  Canada\n",
       "287                   Chile\n",
       "359              Costa Rica\n",
       "383                 Croatia\n",
       "407          Czech Republic\n",
       "419                 Denmark\n",
       "491       Equatorial Guinea\n",
       "527                 Finland\n",
       "539                  France\n",
       "551                   Gabon\n",
       "575                 Germany\n",
       "599                  Greece\n",
       "671        Hong Kong, China\n",
       "683                 Hungary\n",
       "695                 Iceland\n",
       "731                    Iran\n",
       "755                 Ireland\n",
       "767                  Israel\n",
       "779                   Italy\n",
       "803                   Japan\n",
       "851             Korea, Rep.\n",
       "863                  Kuwait\n",
       "875                 Lebanon\n",
       "911                   Libya\n",
       "947                Malaysia\n",
       "983               Mauritius\n",
       "995                  Mexico\n",
       "1091            Netherlands\n",
       "1103            New Zealand\n",
       "1151                 Norway\n",
       "1163                   Oman\n",
       "1187                 Panama\n",
       "1235                 Poland\n",
       "1247               Portugal\n",
       "1259            Puerto Rico\n",
       "1283                Romania\n",
       "1319           Saudi Arabia\n",
       "1343                 Serbia\n",
       "1367              Singapore\n",
       "1379        Slovak Republic\n",
       "1391               Slovenia\n",
       "1427                  Spain\n",
       "1475                 Sweden\n",
       "1487            Switzerland\n",
       "1511                 Taiwan\n",
       "1559    Trinidad and Tobago\n",
       "1607         United Kingdom\n",
       "1619          United States\n",
       "1631                Uruguay\n",
       "1643              Venezuela\n",
       "Name: country, dtype: object"
      ]
     },
     "execution_count": 203,
     "metadata": {},
     "output_type": "execute_result"
    }
   ],
   "source": [
    "gdp_higher_than_75th_percentile = Gapminder_df[Gapminder_df['gdp_cap']> Gapminder_df['gdp_cap'].quantile(0.75)]\n",
    "gdp_higher_than_75th_percentile_for_2007 = gdp_higher_than_75th_percentile[gdp_higher_than_75th_percentile['year'] == 2007]\n",
    "\n",
    "countries_with_higher_than_75th_percentile = gdp_higher_than_75th_percentile_for_2007['country']\n",
    "countries_with_higher_than_75th_percentile"
   ]
  },
  {
   "cell_type": "code",
   "execution_count": null,
   "id": "02e75503-2623-4a4b-816c-42f0e950fb18",
   "metadata": {},
   "outputs": [],
   "source": []
  },
  {
   "cell_type": "code",
   "execution_count": 204,
   "id": "e5b5f354-71c7-406e-a12b-c885d342620b",
   "metadata": {},
   "outputs": [
    {
     "data": {
      "text/html": [
       "<div>\n",
       "<style scoped>\n",
       "    .dataframe tbody tr th:only-of-type {\n",
       "        vertical-align: middle;\n",
       "    }\n",
       "\n",
       "    .dataframe tbody tr th {\n",
       "        vertical-align: top;\n",
       "    }\n",
       "\n",
       "    .dataframe thead th {\n",
       "        text-align: right;\n",
       "    }\n",
       "</style>\n",
       "<table border=\"1\" class=\"dataframe\">\n",
       "  <thead>\n",
       "    <tr style=\"text-align: right;\">\n",
       "      <th></th>\n",
       "      <th>country</th>\n",
       "      <th>year</th>\n",
       "      <th>population</th>\n",
       "      <th>continent</th>\n",
       "      <th>life_exp</th>\n",
       "      <th>gdp_cap</th>\n",
       "    </tr>\n",
       "  </thead>\n",
       "  <tbody>\n",
       "    <tr>\n",
       "      <th>0</th>\n",
       "      <td>Afghanistan</td>\n",
       "      <td>1952</td>\n",
       "      <td>8425333</td>\n",
       "      <td>Asia</td>\n",
       "      <td>28.801</td>\n",
       "      <td>779.445314</td>\n",
       "    </tr>\n",
       "    <tr>\n",
       "      <th>1</th>\n",
       "      <td>Afghanistan</td>\n",
       "      <td>1957</td>\n",
       "      <td>9240934</td>\n",
       "      <td>Asia</td>\n",
       "      <td>30.332</td>\n",
       "      <td>820.853030</td>\n",
       "    </tr>\n",
       "    <tr>\n",
       "      <th>2</th>\n",
       "      <td>Afghanistan</td>\n",
       "      <td>1962</td>\n",
       "      <td>10267083</td>\n",
       "      <td>Asia</td>\n",
       "      <td>31.997</td>\n",
       "      <td>853.100710</td>\n",
       "    </tr>\n",
       "    <tr>\n",
       "      <th>3</th>\n",
       "      <td>Afghanistan</td>\n",
       "      <td>1967</td>\n",
       "      <td>11537966</td>\n",
       "      <td>Asia</td>\n",
       "      <td>34.020</td>\n",
       "      <td>836.197138</td>\n",
       "    </tr>\n",
       "    <tr>\n",
       "      <th>4</th>\n",
       "      <td>Afghanistan</td>\n",
       "      <td>1972</td>\n",
       "      <td>13079460</td>\n",
       "      <td>Asia</td>\n",
       "      <td>36.088</td>\n",
       "      <td>739.981106</td>\n",
       "    </tr>\n",
       "  </tbody>\n",
       "</table>\n",
       "</div>"
      ],
      "text/plain": [
       "       country  year  population continent  life_exp     gdp_cap\n",
       "0  Afghanistan  1952     8425333      Asia    28.801  779.445314\n",
       "1  Afghanistan  1957     9240934      Asia    30.332  820.853030\n",
       "2  Afghanistan  1962    10267083      Asia    31.997  853.100710\n",
       "3  Afghanistan  1967    11537966      Asia    34.020  836.197138\n",
       "4  Afghanistan  1972    13079460      Asia    36.088  739.981106"
      ]
     },
     "execution_count": 204,
     "metadata": {},
     "output_type": "execute_result"
    }
   ],
   "source": [
    "Gapminder_df.head()"
   ]
  },
  {
   "cell_type": "code",
   "execution_count": null,
   "id": "f662a800-9d92-4c4e-81ce-06d18dbd1dcf",
   "metadata": {},
   "outputs": [],
   "source": [
    "# Categorize the 'life_exp' into 4 equally ranged bins from 'Low' to 'Very High'.\n",
    "# Use cut to create these categorical life expectancy groups and add them as a new column 'Life_Exp_Range'."
   ]
  },
  {
   "cell_type": "code",
   "execution_count": 278,
   "id": "dd9446d8-0fd3-4652-92de-a664cabf5938",
   "metadata": {},
   "outputs": [],
   "source": [
    "#Gapminder_df['life_exp'].describe()"
   ]
  },
  {
   "cell_type": "code",
   "execution_count": 206,
   "id": "2bd2b73b-ed7d-41cf-af74-ce06c3e07824",
   "metadata": {},
   "outputs": [
    {
     "data": {
      "text/html": [
       "<div>\n",
       "<style scoped>\n",
       "    .dataframe tbody tr th:only-of-type {\n",
       "        vertical-align: middle;\n",
       "    }\n",
       "\n",
       "    .dataframe tbody tr th {\n",
       "        vertical-align: top;\n",
       "    }\n",
       "\n",
       "    .dataframe thead th {\n",
       "        text-align: right;\n",
       "    }\n",
       "</style>\n",
       "<table border=\"1\" class=\"dataframe\">\n",
       "  <thead>\n",
       "    <tr style=\"text-align: right;\">\n",
       "      <th></th>\n",
       "      <th>country</th>\n",
       "      <th>year</th>\n",
       "      <th>population</th>\n",
       "      <th>continent</th>\n",
       "      <th>life_exp</th>\n",
       "      <th>gdp_cap</th>\n",
       "      <th>life_exp_range</th>\n",
       "    </tr>\n",
       "  </thead>\n",
       "  <tbody>\n",
       "    <tr>\n",
       "      <th>0</th>\n",
       "      <td>Afghanistan</td>\n",
       "      <td>1952</td>\n",
       "      <td>8425333</td>\n",
       "      <td>Asia</td>\n",
       "      <td>28.801</td>\n",
       "      <td>779.445314</td>\n",
       "      <td>Low</td>\n",
       "    </tr>\n",
       "    <tr>\n",
       "      <th>1</th>\n",
       "      <td>Afghanistan</td>\n",
       "      <td>1957</td>\n",
       "      <td>9240934</td>\n",
       "      <td>Asia</td>\n",
       "      <td>30.332</td>\n",
       "      <td>820.853030</td>\n",
       "      <td>Low</td>\n",
       "    </tr>\n",
       "    <tr>\n",
       "      <th>2</th>\n",
       "      <td>Afghanistan</td>\n",
       "      <td>1962</td>\n",
       "      <td>10267083</td>\n",
       "      <td>Asia</td>\n",
       "      <td>31.997</td>\n",
       "      <td>853.100710</td>\n",
       "      <td>Low</td>\n",
       "    </tr>\n",
       "    <tr>\n",
       "      <th>3</th>\n",
       "      <td>Afghanistan</td>\n",
       "      <td>1967</td>\n",
       "      <td>11537966</td>\n",
       "      <td>Asia</td>\n",
       "      <td>34.020</td>\n",
       "      <td>836.197138</td>\n",
       "      <td>Low</td>\n",
       "    </tr>\n",
       "    <tr>\n",
       "      <th>4</th>\n",
       "      <td>Afghanistan</td>\n",
       "      <td>1972</td>\n",
       "      <td>13079460</td>\n",
       "      <td>Asia</td>\n",
       "      <td>36.088</td>\n",
       "      <td>739.981106</td>\n",
       "      <td>Low</td>\n",
       "    </tr>\n",
       "    <tr>\n",
       "      <th>...</th>\n",
       "      <td>...</td>\n",
       "      <td>...</td>\n",
       "      <td>...</td>\n",
       "      <td>...</td>\n",
       "      <td>...</td>\n",
       "      <td>...</td>\n",
       "      <td>...</td>\n",
       "    </tr>\n",
       "    <tr>\n",
       "      <th>1699</th>\n",
       "      <td>Zimbabwe</td>\n",
       "      <td>1987</td>\n",
       "      <td>9216418</td>\n",
       "      <td>Africa</td>\n",
       "      <td>62.351</td>\n",
       "      <td>706.157306</td>\n",
       "      <td>High</td>\n",
       "    </tr>\n",
       "    <tr>\n",
       "      <th>1700</th>\n",
       "      <td>Zimbabwe</td>\n",
       "      <td>1992</td>\n",
       "      <td>10704340</td>\n",
       "      <td>Africa</td>\n",
       "      <td>60.377</td>\n",
       "      <td>693.420786</td>\n",
       "      <td>High</td>\n",
       "    </tr>\n",
       "    <tr>\n",
       "      <th>1701</th>\n",
       "      <td>Zimbabwe</td>\n",
       "      <td>1997</td>\n",
       "      <td>11404948</td>\n",
       "      <td>Africa</td>\n",
       "      <td>46.809</td>\n",
       "      <td>792.449960</td>\n",
       "      <td>Medium</td>\n",
       "    </tr>\n",
       "    <tr>\n",
       "      <th>1702</th>\n",
       "      <td>Zimbabwe</td>\n",
       "      <td>2002</td>\n",
       "      <td>11926563</td>\n",
       "      <td>Africa</td>\n",
       "      <td>39.989</td>\n",
       "      <td>672.038623</td>\n",
       "      <td>Medium</td>\n",
       "    </tr>\n",
       "    <tr>\n",
       "      <th>1703</th>\n",
       "      <td>Zimbabwe</td>\n",
       "      <td>2007</td>\n",
       "      <td>12311143</td>\n",
       "      <td>Africa</td>\n",
       "      <td>43.487</td>\n",
       "      <td>469.709298</td>\n",
       "      <td>Medium</td>\n",
       "    </tr>\n",
       "  </tbody>\n",
       "</table>\n",
       "<p>1704 rows × 7 columns</p>\n",
       "</div>"
      ],
      "text/plain": [
       "          country  year  population continent  life_exp     gdp_cap  \\\n",
       "0     Afghanistan  1952     8425333      Asia    28.801  779.445314   \n",
       "1     Afghanistan  1957     9240934      Asia    30.332  820.853030   \n",
       "2     Afghanistan  1962    10267083      Asia    31.997  853.100710   \n",
       "3     Afghanistan  1967    11537966      Asia    34.020  836.197138   \n",
       "4     Afghanistan  1972    13079460      Asia    36.088  739.981106   \n",
       "...           ...   ...         ...       ...       ...         ...   \n",
       "1699     Zimbabwe  1987     9216418    Africa    62.351  706.157306   \n",
       "1700     Zimbabwe  1992    10704340    Africa    60.377  693.420786   \n",
       "1701     Zimbabwe  1997    11404948    Africa    46.809  792.449960   \n",
       "1702     Zimbabwe  2002    11926563    Africa    39.989  672.038623   \n",
       "1703     Zimbabwe  2007    12311143    Africa    43.487  469.709298   \n",
       "\n",
       "     life_exp_range  \n",
       "0               Low  \n",
       "1               Low  \n",
       "2               Low  \n",
       "3               Low  \n",
       "4               Low  \n",
       "...             ...  \n",
       "1699           High  \n",
       "1700           High  \n",
       "1701         Medium  \n",
       "1702         Medium  \n",
       "1703         Medium  \n",
       "\n",
       "[1704 rows x 7 columns]"
      ]
     },
     "execution_count": 206,
     "metadata": {},
     "output_type": "execute_result"
    }
   ],
   "source": [
    "bins = ['23', '38', '53', '68', '83']\n",
    "Gapminder_df['life_exp_range']= pd.cut(Gapminder_df['life_exp'], bins = bins, labels = ['Low', 'Medium', 'High', 'Very High'])\n",
    "\n",
    "Gapminder_df"
   ]
  },
  {
   "cell_type": "code",
   "execution_count": 12,
   "id": "0b9d3f95-d6f1-4b94-843c-ea26ad217fc7",
   "metadata": {},
   "outputs": [],
   "source": [
    "# Identify the top 5 countries with the highest GDP per capita in 2007.\n",
    "# Use a horizontal bar chart to display this data."
   ]
  },
  {
   "cell_type": "code",
   "execution_count": 279,
   "id": "9945d10c-8de3-499f-9bd2-79f0416e66cb",
   "metadata": {},
   "outputs": [
    {
     "data": {
      "text/plain": [
       "<Axes: title={'center': 'Top 5 Countries BY GDP FOR 2007'}, xlabel='GDP_CAP', ylabel='country'>"
      ]
     },
     "execution_count": 279,
     "metadata": {},
     "output_type": "execute_result"
    },
    {
     "data": {
      "image/png": "[encoded data removed]",
      "text/plain": [
       "<Figure size 800x500 with 1 Axes>"
      ]
     },
     "metadata": {},
     "output_type": "display_data"
    }
   ],
   "source": [
    "df_for_2007 = Gapminder_df[Gapminder_df['year'] == 2007]\n",
    "top_5_countries_by_gdp = df_for_2007.nlargest(5, 'gdp_cap')\n",
    "\n",
    "top_5_countries_by_gdp.plot.barh(x = 'country', y = 'gdp_cap', figsize = (8, 5), color = ['skyblue', 'blue', 'magenta', 'orange', 'red'], title = 'Top 5 Countries BY GDP FOR 2007', xlabel = 'GDP_CAP')"
   ]
  },
  {
   "cell_type": "code",
   "execution_count": null,
   "id": "335858de-6a3b-4d56-b2de-12dae5e5078f",
   "metadata": {},
   "outputs": [],
   "source": [
    "# Find all country names that start with \"I\" and end with \"a\" using regex."
   ]
  },
  {
   "cell_type": "code",
   "execution_count": 208,
   "id": "db4aa0c9-5c47-4059-8326-ae8018a62b04",
   "metadata": {},
   "outputs": [
    {
     "data": {
      "text/plain": [
       "{'India', 'Indonesia'}"
      ]
     },
     "execution_count": 208,
     "metadata": {},
     "output_type": "execute_result"
    }
   ],
   "source": [
    "import re\n",
    "countries = Gapminder_df['country']\n",
    "def countries_starting_with_I_and_ending_with_a(countries):\n",
    "    regex_pattern = r\"^I.*a$\"\n",
    "    matching_countries = set()\n",
    "    for i in countries:\n",
    "        if re.match(regex_pattern, i):\n",
    "            matching_countries.add(i)\n",
    "    return matching_countries\n",
    "\n",
    "countries_starting_with_I_and_ending_with_a(countries)"
   ]
  },
  {
   "cell_type": "code",
   "execution_count": 209,
   "id": "33e0a9a4-222e-4f86-a06b-5f4c0e4997f7",
   "metadata": {},
   "outputs": [
    {
     "data": {
      "text/html": [
       "<div>\n",
       "<style scoped>\n",
       "    .dataframe tbody tr th:only-of-type {\n",
       "        vertical-align: middle;\n",
       "    }\n",
       "\n",
       "    .dataframe tbody tr th {\n",
       "        vertical-align: top;\n",
       "    }\n",
       "\n",
       "    .dataframe thead th {\n",
       "        text-align: right;\n",
       "    }\n",
       "</style>\n",
       "<table border=\"1\" class=\"dataframe\">\n",
       "  <thead>\n",
       "    <tr style=\"text-align: right;\">\n",
       "      <th></th>\n",
       "      <th>country</th>\n",
       "      <th>year</th>\n",
       "      <th>population</th>\n",
       "      <th>continent</th>\n",
       "      <th>life_exp</th>\n",
       "      <th>gdp_cap</th>\n",
       "      <th>life_exp_range</th>\n",
       "    </tr>\n",
       "  </thead>\n",
       "  <tbody>\n",
       "    <tr>\n",
       "      <th>0</th>\n",
       "      <td>Afghanistan</td>\n",
       "      <td>1952</td>\n",
       "      <td>8425333</td>\n",
       "      <td>Asia</td>\n",
       "      <td>28.801</td>\n",
       "      <td>779.445314</td>\n",
       "      <td>Low</td>\n",
       "    </tr>\n",
       "    <tr>\n",
       "      <th>1</th>\n",
       "      <td>Afghanistan</td>\n",
       "      <td>1957</td>\n",
       "      <td>9240934</td>\n",
       "      <td>Asia</td>\n",
       "      <td>30.332</td>\n",
       "      <td>820.853030</td>\n",
       "      <td>Low</td>\n",
       "    </tr>\n",
       "    <tr>\n",
       "      <th>2</th>\n",
       "      <td>Afghanistan</td>\n",
       "      <td>1962</td>\n",
       "      <td>10267083</td>\n",
       "      <td>Asia</td>\n",
       "      <td>31.997</td>\n",
       "      <td>853.100710</td>\n",
       "      <td>Low</td>\n",
       "    </tr>\n",
       "    <tr>\n",
       "      <th>3</th>\n",
       "      <td>Afghanistan</td>\n",
       "      <td>1967</td>\n",
       "      <td>11537966</td>\n",
       "      <td>Asia</td>\n",
       "      <td>34.020</td>\n",
       "      <td>836.197138</td>\n",
       "      <td>Low</td>\n",
       "    </tr>\n",
       "    <tr>\n",
       "      <th>4</th>\n",
       "      <td>Afghanistan</td>\n",
       "      <td>1972</td>\n",
       "      <td>13079460</td>\n",
       "      <td>Asia</td>\n",
       "      <td>36.088</td>\n",
       "      <td>739.981106</td>\n",
       "      <td>Low</td>\n",
       "    </tr>\n",
       "  </tbody>\n",
       "</table>\n",
       "</div>"
      ],
      "text/plain": [
       "       country  year  population continent  life_exp     gdp_cap  \\\n",
       "0  Afghanistan  1952     8425333      Asia    28.801  779.445314   \n",
       "1  Afghanistan  1957     9240934      Asia    30.332  820.853030   \n",
       "2  Afghanistan  1962    10267083      Asia    31.997  853.100710   \n",
       "3  Afghanistan  1967    11537966      Asia    34.020  836.197138   \n",
       "4  Afghanistan  1972    13079460      Asia    36.088  739.981106   \n",
       "\n",
       "  life_exp_range  \n",
       "0            Low  \n",
       "1            Low  \n",
       "2            Low  \n",
       "3            Low  \n",
       "4            Low  "
      ]
     },
     "execution_count": 209,
     "metadata": {},
     "output_type": "execute_result"
    }
   ],
   "source": [
    "Gapminder_df.head()"
   ]
  },
  {
   "cell_type": "code",
   "execution_count": null,
   "id": "1f7b18dc-e888-4ed2-8c6a-1693692de40f",
   "metadata": {},
   "outputs": [],
   "source": [
    "# Create a boxplot using Seaborn to compare the distribution of GDP per capita for each continent in 2007."
   ]
  },
  {
   "cell_type": "code",
   "execution_count": 210,
   "id": "4c4b4b25-841e-4e2c-95b2-acd727588bec",
   "metadata": {},
   "outputs": [
    {
     "data": {
      "text/plain": [
       "Text(0, 0.5, 'GDP per capita')"
      ]
     },
     "execution_count": 210,
     "metadata": {},
     "output_type": "execute_result"
    },
    {
     "data": {
      "image/png": "[encoded data removed]",
      "text/plain": [
       "<Figure size 640x480 with 1 Axes>"
      ]
     },
     "metadata": {},
     "output_type": "display_data"
    }
   ],
   "source": [
    "import seaborn as sns\n",
    "\n",
    "continent = Gapminder_df['continent'].tolist()\n",
    "gdp_cap = Gapminder_df['gdp_cap'].tolist()\n",
    "\n",
    "sns.boxplot(x='continent', y='gdp_cap', data=Gapminder_df)\n",
    "plt.title('GDP per capita for each continent')\n",
    "plt.xlabel('Continents')\n",
    "plt.ylabel('GDP per capita')"
   ]
  },
  {
   "cell_type": "code",
   "execution_count": null,
   "id": "29e83562-384f-4b27-aed9-66b32760a85c",
   "metadata": {},
   "outputs": [],
   "source": [
    "# Find all countries with a life expectancy of over 80 years in 2007.\n",
    "# List these countries and their respective continents."
   ]
  },
  {
   "cell_type": "code",
   "execution_count": 211,
   "id": "a2fe672a-c2fe-41e2-8086-7c04d648c3d3",
   "metadata": {},
   "outputs": [
    {
     "data": {
      "text/html": [
       "<div>\n",
       "<style scoped>\n",
       "    .dataframe tbody tr th:only-of-type {\n",
       "        vertical-align: middle;\n",
       "    }\n",
       "\n",
       "    .dataframe tbody tr th {\n",
       "        vertical-align: top;\n",
       "    }\n",
       "\n",
       "    .dataframe thead th {\n",
       "        text-align: right;\n",
       "    }\n",
       "</style>\n",
       "<table border=\"1\" class=\"dataframe\">\n",
       "  <thead>\n",
       "    <tr style=\"text-align: right;\">\n",
       "      <th></th>\n",
       "      <th>country</th>\n",
       "      <th>continent</th>\n",
       "    </tr>\n",
       "  </thead>\n",
       "  <tbody>\n",
       "    <tr>\n",
       "      <th>70</th>\n",
       "      <td>Australia</td>\n",
       "      <td>Oceania</td>\n",
       "    </tr>\n",
       "    <tr>\n",
       "      <th>251</th>\n",
       "      <td>Canada</td>\n",
       "      <td>Americas</td>\n",
       "    </tr>\n",
       "    <tr>\n",
       "      <th>539</th>\n",
       "      <td>France</td>\n",
       "      <td>Europe</td>\n",
       "    </tr>\n",
       "    <tr>\n",
       "      <th>670</th>\n",
       "      <td>Hong Kong, China</td>\n",
       "      <td>Asia</td>\n",
       "    </tr>\n",
       "    <tr>\n",
       "      <th>694</th>\n",
       "      <td>Iceland</td>\n",
       "      <td>Europe</td>\n",
       "    </tr>\n",
       "    <tr>\n",
       "      <th>767</th>\n",
       "      <td>Israel</td>\n",
       "      <td>Asia</td>\n",
       "    </tr>\n",
       "    <tr>\n",
       "      <th>778</th>\n",
       "      <td>Italy</td>\n",
       "      <td>Europe</td>\n",
       "    </tr>\n",
       "    <tr>\n",
       "      <th>801</th>\n",
       "      <td>Japan</td>\n",
       "      <td>Asia</td>\n",
       "    </tr>\n",
       "    <tr>\n",
       "      <th>1103</th>\n",
       "      <td>New Zealand</td>\n",
       "      <td>Oceania</td>\n",
       "    </tr>\n",
       "    <tr>\n",
       "      <th>1151</th>\n",
       "      <td>Norway</td>\n",
       "      <td>Europe</td>\n",
       "    </tr>\n",
       "    <tr>\n",
       "      <th>1427</th>\n",
       "      <td>Spain</td>\n",
       "      <td>Europe</td>\n",
       "    </tr>\n",
       "    <tr>\n",
       "      <th>1474</th>\n",
       "      <td>Sweden</td>\n",
       "      <td>Europe</td>\n",
       "    </tr>\n",
       "    <tr>\n",
       "      <th>1486</th>\n",
       "      <td>Switzerland</td>\n",
       "      <td>Europe</td>\n",
       "    </tr>\n",
       "  </tbody>\n",
       "</table>\n",
       "</div>"
      ],
      "text/plain": [
       "               country continent\n",
       "70           Australia   Oceania\n",
       "251             Canada  Americas\n",
       "539             France    Europe\n",
       "670   Hong Kong, China      Asia\n",
       "694            Iceland    Europe\n",
       "767             Israel      Asia\n",
       "778              Italy    Europe\n",
       "801              Japan      Asia\n",
       "1103       New Zealand   Oceania\n",
       "1151            Norway    Europe\n",
       "1427             Spain    Europe\n",
       "1474            Sweden    Europe\n",
       "1486       Switzerland    Europe"
      ]
     },
     "execution_count": 211,
     "metadata": {},
     "output_type": "execute_result"
    }
   ],
   "source": [
    "high_life_exp_temp = Gapminder_df[Gapminder_df['life_exp']> 80]\n",
    "high_life_exp = high_life_exp_temp[['country', 'continent']].drop_duplicates()\n",
    "\n",
    "high_life_exp"
   ]
  },
  {
   "cell_type": "code",
   "execution_count": null,
   "id": "2d41b19e-2405-48ad-ae0d-49bb39d5d064",
   "metadata": {},
   "outputs": [],
   "source": [
    "# Convert the 'year' column to a datetime type and extract the decade.\n",
    "# Create a new column 'Decade' that groups the years into decades (e.g., the 1950s, 1960s)."
   ]
  },
  {
   "cell_type": "code",
   "execution_count": 212,
   "id": "aeedfd49-0aa2-4f66-90d7-729eb72eff25",
   "metadata": {},
   "outputs": [
    {
     "data": {
      "text/html": [
       "<div>\n",
       "<style scoped>\n",
       "    .dataframe tbody tr th:only-of-type {\n",
       "        vertical-align: middle;\n",
       "    }\n",
       "\n",
       "    .dataframe tbody tr th {\n",
       "        vertical-align: top;\n",
       "    }\n",
       "\n",
       "    .dataframe thead th {\n",
       "        text-align: right;\n",
       "    }\n",
       "</style>\n",
       "<table border=\"1\" class=\"dataframe\">\n",
       "  <thead>\n",
       "    <tr style=\"text-align: right;\">\n",
       "      <th></th>\n",
       "      <th>country</th>\n",
       "      <th>year</th>\n",
       "      <th>population</th>\n",
       "      <th>continent</th>\n",
       "      <th>life_exp</th>\n",
       "      <th>gdp_cap</th>\n",
       "      <th>life_exp_range</th>\n",
       "    </tr>\n",
       "  </thead>\n",
       "  <tbody>\n",
       "    <tr>\n",
       "      <th>0</th>\n",
       "      <td>Afghanistan</td>\n",
       "      <td>1952</td>\n",
       "      <td>8425333</td>\n",
       "      <td>Asia</td>\n",
       "      <td>28.801</td>\n",
       "      <td>779.445314</td>\n",
       "      <td>Low</td>\n",
       "    </tr>\n",
       "    <tr>\n",
       "      <th>1</th>\n",
       "      <td>Afghanistan</td>\n",
       "      <td>1957</td>\n",
       "      <td>9240934</td>\n",
       "      <td>Asia</td>\n",
       "      <td>30.332</td>\n",
       "      <td>820.853030</td>\n",
       "      <td>Low</td>\n",
       "    </tr>\n",
       "    <tr>\n",
       "      <th>2</th>\n",
       "      <td>Afghanistan</td>\n",
       "      <td>1962</td>\n",
       "      <td>10267083</td>\n",
       "      <td>Asia</td>\n",
       "      <td>31.997</td>\n",
       "      <td>853.100710</td>\n",
       "      <td>Low</td>\n",
       "    </tr>\n",
       "    <tr>\n",
       "      <th>3</th>\n",
       "      <td>Afghanistan</td>\n",
       "      <td>1967</td>\n",
       "      <td>11537966</td>\n",
       "      <td>Asia</td>\n",
       "      <td>34.020</td>\n",
       "      <td>836.197138</td>\n",
       "      <td>Low</td>\n",
       "    </tr>\n",
       "    <tr>\n",
       "      <th>4</th>\n",
       "      <td>Afghanistan</td>\n",
       "      <td>1972</td>\n",
       "      <td>13079460</td>\n",
       "      <td>Asia</td>\n",
       "      <td>36.088</td>\n",
       "      <td>739.981106</td>\n",
       "      <td>Low</td>\n",
       "    </tr>\n",
       "  </tbody>\n",
       "</table>\n",
       "</div>"
      ],
      "text/plain": [
       "       country  year  population continent  life_exp     gdp_cap  \\\n",
       "0  Afghanistan  1952     8425333      Asia    28.801  779.445314   \n",
       "1  Afghanistan  1957     9240934      Asia    30.332  820.853030   \n",
       "2  Afghanistan  1962    10267083      Asia    31.997  853.100710   \n",
       "3  Afghanistan  1967    11537966      Asia    34.020  836.197138   \n",
       "4  Afghanistan  1972    13079460      Asia    36.088  739.981106   \n",
       "\n",
       "  life_exp_range  \n",
       "0            Low  \n",
       "1            Low  \n",
       "2            Low  \n",
       "3            Low  \n",
       "4            Low  "
      ]
     },
     "execution_count": 212,
     "metadata": {},
     "output_type": "execute_result"
    }
   ],
   "source": [
    "Gapminder_df.head()"
   ]
  },
  {
   "cell_type": "code",
   "execution_count": 213,
   "id": "e9a2d5d6-f979-435a-99d5-ff6b6c346d12",
   "metadata": {},
   "outputs": [
    {
     "data": {
      "text/html": [
       "<div>\n",
       "<style scoped>\n",
       "    .dataframe tbody tr th:only-of-type {\n",
       "        vertical-align: middle;\n",
       "    }\n",
       "\n",
       "    .dataframe tbody tr th {\n",
       "        vertical-align: top;\n",
       "    }\n",
       "\n",
       "    .dataframe thead th {\n",
       "        text-align: right;\n",
       "    }\n",
       "</style>\n",
       "<table border=\"1\" class=\"dataframe\">\n",
       "  <thead>\n",
       "    <tr style=\"text-align: right;\">\n",
       "      <th></th>\n",
       "      <th>country</th>\n",
       "      <th>year</th>\n",
       "      <th>population</th>\n",
       "      <th>continent</th>\n",
       "      <th>life_exp</th>\n",
       "      <th>gdp_cap</th>\n",
       "      <th>life_exp_range</th>\n",
       "      <th>decade</th>\n",
       "    </tr>\n",
       "  </thead>\n",
       "  <tbody>\n",
       "    <tr>\n",
       "      <th>0</th>\n",
       "      <td>Afghanistan</td>\n",
       "      <td>1952</td>\n",
       "      <td>8425333</td>\n",
       "      <td>Asia</td>\n",
       "      <td>28.801</td>\n",
       "      <td>779.445314</td>\n",
       "      <td>Low</td>\n",
       "      <td>1950s</td>\n",
       "    </tr>\n",
       "    <tr>\n",
       "      <th>1</th>\n",
       "      <td>Afghanistan</td>\n",
       "      <td>1957</td>\n",
       "      <td>9240934</td>\n",
       "      <td>Asia</td>\n",
       "      <td>30.332</td>\n",
       "      <td>820.853030</td>\n",
       "      <td>Low</td>\n",
       "      <td>1950s</td>\n",
       "    </tr>\n",
       "    <tr>\n",
       "      <th>2</th>\n",
       "      <td>Afghanistan</td>\n",
       "      <td>1962</td>\n",
       "      <td>10267083</td>\n",
       "      <td>Asia</td>\n",
       "      <td>31.997</td>\n",
       "      <td>853.100710</td>\n",
       "      <td>Low</td>\n",
       "      <td>1960s</td>\n",
       "    </tr>\n",
       "    <tr>\n",
       "      <th>3</th>\n",
       "      <td>Afghanistan</td>\n",
       "      <td>1967</td>\n",
       "      <td>11537966</td>\n",
       "      <td>Asia</td>\n",
       "      <td>34.020</td>\n",
       "      <td>836.197138</td>\n",
       "      <td>Low</td>\n",
       "      <td>1960s</td>\n",
       "    </tr>\n",
       "    <tr>\n",
       "      <th>4</th>\n",
       "      <td>Afghanistan</td>\n",
       "      <td>1972</td>\n",
       "      <td>13079460</td>\n",
       "      <td>Asia</td>\n",
       "      <td>36.088</td>\n",
       "      <td>739.981106</td>\n",
       "      <td>Low</td>\n",
       "      <td>1970s</td>\n",
       "    </tr>\n",
       "  </tbody>\n",
       "</table>\n",
       "</div>"
      ],
      "text/plain": [
       "       country  year  population continent  life_exp     gdp_cap  \\\n",
       "0  Afghanistan  1952     8425333      Asia    28.801  779.445314   \n",
       "1  Afghanistan  1957     9240934      Asia    30.332  820.853030   \n",
       "2  Afghanistan  1962    10267083      Asia    31.997  853.100710   \n",
       "3  Afghanistan  1967    11537966      Asia    34.020  836.197138   \n",
       "4  Afghanistan  1972    13079460      Asia    36.088  739.981106   \n",
       "\n",
       "  life_exp_range decade  \n",
       "0            Low  1950s  \n",
       "1            Low  1950s  \n",
       "2            Low  1960s  \n",
       "3            Low  1960s  \n",
       "4            Low  1970s  "
      ]
     },
     "execution_count": 213,
     "metadata": {},
     "output_type": "execute_result"
    }
   ],
   "source": [
    "Gapminder_df['year'] = pd.to_datetime(Gapminder_df['year'], format= '%Y')\n",
    "\n",
    "Gapminder_df['year'] = Gapminder_df['year'].dt.year\n",
    "Gapminder_df['decade'] = (Gapminder_df['year']//10*10).astype(str) + 's' \n",
    "Gapminder_df.head()"
   ]
  },
  {
   "cell_type": "code",
   "execution_count": 215,
   "id": "c522eb88-4e69-4b42-98bd-715f42e4d8cf",
   "metadata": {
    "scrolled": true
   },
   "outputs": [
    {
     "data": {
      "text/html": [
       "<div>\n",
       "<style scoped>\n",
       "    .dataframe tbody tr th:only-of-type {\n",
       "        vertical-align: middle;\n",
       "    }\n",
       "\n",
       "    .dataframe tbody tr th {\n",
       "        vertical-align: top;\n",
       "    }\n",
       "\n",
       "    .dataframe thead th {\n",
       "        text-align: right;\n",
       "    }\n",
       "</style>\n",
       "<table border=\"1\" class=\"dataframe\">\n",
       "  <thead>\n",
       "    <tr style=\"text-align: right;\">\n",
       "      <th></th>\n",
       "      <th>country</th>\n",
       "      <th>year</th>\n",
       "      <th>population</th>\n",
       "      <th>continent</th>\n",
       "      <th>life_exp</th>\n",
       "      <th>gdp_cap</th>\n",
       "      <th>life_exp_range</th>\n",
       "      <th>decade</th>\n",
       "    </tr>\n",
       "  </thead>\n",
       "  <tbody>\n",
       "    <tr>\n",
       "      <th>0</th>\n",
       "      <td>Afghanistan</td>\n",
       "      <td>1952</td>\n",
       "      <td>8425333</td>\n",
       "      <td>Asia</td>\n",
       "      <td>28.801</td>\n",
       "      <td>779.445314</td>\n",
       "      <td>Low</td>\n",
       "      <td>1950s</td>\n",
       "    </tr>\n",
       "    <tr>\n",
       "      <th>1</th>\n",
       "      <td>Afghanistan</td>\n",
       "      <td>1957</td>\n",
       "      <td>9240934</td>\n",
       "      <td>Asia</td>\n",
       "      <td>30.332</td>\n",
       "      <td>820.853030</td>\n",
       "      <td>Low</td>\n",
       "      <td>1950s</td>\n",
       "    </tr>\n",
       "    <tr>\n",
       "      <th>2</th>\n",
       "      <td>Afghanistan</td>\n",
       "      <td>1962</td>\n",
       "      <td>10267083</td>\n",
       "      <td>Asia</td>\n",
       "      <td>31.997</td>\n",
       "      <td>853.100710</td>\n",
       "      <td>Low</td>\n",
       "      <td>1960s</td>\n",
       "    </tr>\n",
       "    <tr>\n",
       "      <th>3</th>\n",
       "      <td>Afghanistan</td>\n",
       "      <td>1967</td>\n",
       "      <td>11537966</td>\n",
       "      <td>Asia</td>\n",
       "      <td>34.020</td>\n",
       "      <td>836.197138</td>\n",
       "      <td>Low</td>\n",
       "      <td>1960s</td>\n",
       "    </tr>\n",
       "    <tr>\n",
       "      <th>4</th>\n",
       "      <td>Afghanistan</td>\n",
       "      <td>1972</td>\n",
       "      <td>13079460</td>\n",
       "      <td>Asia</td>\n",
       "      <td>36.088</td>\n",
       "      <td>739.981106</td>\n",
       "      <td>Low</td>\n",
       "      <td>1970s</td>\n",
       "    </tr>\n",
       "  </tbody>\n",
       "</table>\n",
       "</div>"
      ],
      "text/plain": [
       "       country  year  population continent  life_exp     gdp_cap  \\\n",
       "0  Afghanistan  1952     8425333      Asia    28.801  779.445314   \n",
       "1  Afghanistan  1957     9240934      Asia    30.332  820.853030   \n",
       "2  Afghanistan  1962    10267083      Asia    31.997  853.100710   \n",
       "3  Afghanistan  1967    11537966      Asia    34.020  836.197138   \n",
       "4  Afghanistan  1972    13079460      Asia    36.088  739.981106   \n",
       "\n",
       "  life_exp_range decade  \n",
       "0            Low  1950s  \n",
       "1            Low  1950s  \n",
       "2            Low  1960s  \n",
       "3            Low  1960s  \n",
       "4            Low  1970s  "
      ]
     },
     "execution_count": 215,
     "metadata": {},
     "output_type": "execute_result"
    }
   ],
   "source": [
    "Gapminder_df.head()"
   ]
  },
  {
   "cell_type": "code",
   "execution_count": null,
   "id": "cb56b88d-6ae6-478a-accc-3ed294b4a0ae",
   "metadata": {},
   "outputs": [],
   "source": [
    "# Compute the correlation matrix between GDP per capita, life expectancy, and population for the dataset.\n",
    "# Then, use Seaborn to visualize this correlation matrix as a heatmap"
   ]
  },
  {
   "cell_type": "code",
   "execution_count": 216,
   "id": "4ed6f9ff-a946-4aea-99a3-98a9cea3a261",
   "metadata": {},
   "outputs": [
    {
     "data": {
      "text/html": [
       "<div>\n",
       "<style scoped>\n",
       "    .dataframe tbody tr th:only-of-type {\n",
       "        vertical-align: middle;\n",
       "    }\n",
       "\n",
       "    .dataframe tbody tr th {\n",
       "        vertical-align: top;\n",
       "    }\n",
       "\n",
       "    .dataframe thead th {\n",
       "        text-align: right;\n",
       "    }\n",
       "</style>\n",
       "<table border=\"1\" class=\"dataframe\">\n",
       "  <thead>\n",
       "    <tr style=\"text-align: right;\">\n",
       "      <th></th>\n",
       "      <th>gdp_cap</th>\n",
       "      <th>life_exp</th>\n",
       "      <th>population</th>\n",
       "    </tr>\n",
       "  </thead>\n",
       "  <tbody>\n",
       "    <tr>\n",
       "      <th>gdp_cap</th>\n",
       "      <td>1.000000</td>\n",
       "      <td>0.583706</td>\n",
       "      <td>-0.025600</td>\n",
       "    </tr>\n",
       "    <tr>\n",
       "      <th>life_exp</th>\n",
       "      <td>0.583706</td>\n",
       "      <td>1.000000</td>\n",
       "      <td>0.064955</td>\n",
       "    </tr>\n",
       "    <tr>\n",
       "      <th>population</th>\n",
       "      <td>-0.025600</td>\n",
       "      <td>0.064955</td>\n",
       "      <td>1.000000</td>\n",
       "    </tr>\n",
       "  </tbody>\n",
       "</table>\n",
       "</div>"
      ],
      "text/plain": [
       "             gdp_cap  life_exp  population\n",
       "gdp_cap     1.000000  0.583706   -0.025600\n",
       "life_exp    0.583706  1.000000    0.064955\n",
       "population -0.025600  0.064955    1.000000"
      ]
     },
     "execution_count": 216,
     "metadata": {},
     "output_type": "execute_result"
    }
   ],
   "source": [
    "correlation_matrix = Gapminder_df[['gdp_cap', 'life_exp', 'population']].corr()\n",
    "\n",
    "correlation_matrix"
   ]
  },
  {
   "cell_type": "code",
   "execution_count": 217,
   "id": "0355050b-d8db-4cd8-a11f-331b2909d54b",
   "metadata": {},
   "outputs": [
    {
     "data": {
      "text/plain": [
       "Text(0.5, 1.0, 'Correlation between GDP per capita, Life expectancy and Population')"
      ]
     },
     "execution_count": 217,
     "metadata": {},
     "output_type": "execute_result"
    },
    {
     "data": {
      "image/png": "[encoded data removed]",
      "text/plain": [
       "<Figure size 640x480 with 2 Axes>"
      ]
     },
     "metadata": {},
     "output_type": "display_data"
    }
   ],
   "source": [
    "# Heat_map\n",
    "sns.heatmap(correlation_matrix)\n",
    "plt.title('Correlation between GDP per capita, Life expectancy and Population')"
   ]
  },
  {
   "cell_type": "code",
   "execution_count": null,
   "id": "3aad81ff-16e6-4f63-8d35-8445a1ba55e2",
   "metadata": {},
   "outputs": [],
   "source": [
    "# How has the global average life expectancy changed from 1952 to 2007? Plot a line graph to visualize this trend."
   ]
  },
  {
   "cell_type": "code",
   "execution_count": 281,
   "id": "aa9d25b2-7268-479f-8f50-801adb653426",
   "metadata": {},
   "outputs": [],
   "source": [
    "global_average_life_expectancy = Gapminder_df.groupby('year')['life_exp'].mean()"
   ]
  },
  {
   "cell_type": "code",
   "execution_count": 219,
   "id": "6145f7c2-7c5c-4a0f-96d5-beecea3ef3a8",
   "metadata": {},
   "outputs": [
    {
     "data": {
      "text/plain": [
       "Text(0, 0.5, 'Life expectancy')"
      ]
     },
     "execution_count": 219,
     "metadata": {},
     "output_type": "execute_result"
    },
    {
     "data": {
      "image/png": "[encoded data removed]",
      "text/plain": [
       "<Figure size 640x480 with 1 Axes>"
      ]
     },
     "metadata": {},
     "output_type": "display_data"
    }
   ],
   "source": [
    "x = global_average_life_expectancy.index.tolist()\n",
    "y = global_average_life_expectancy.values.tolist()\n",
    "\n",
    "plt.plot(x, y)\n",
    "plt.title(\"Global Life Expectancy By Years\")\n",
    "plt.xlabel('Years')\n",
    "plt.ylabel('Life expectancy')\n"
   ]
  },
  {
   "cell_type": "code",
   "execution_count": null,
   "id": "b92e05e6-100e-4aee-8987-88acf3e08b03",
   "metadata": {},
   "outputs": [],
   "source": [
    "# For the year 2007, analyze the relationship between life expectancy and GDP per capita. "
   ]
  },
  {
   "cell_type": "code",
   "execution_count": 282,
   "id": "39752ac7-c67d-4d97-9398-10bffe93c9d0",
   "metadata": {},
   "outputs": [
    {
     "data": {
      "text/plain": [
       "<Axes: xlabel='life_exp', ylabel='gdp_cap'>"
      ]
     },
     "execution_count": 282,
     "metadata": {},
     "output_type": "execute_result"
    },
    {
     "data": {
      "image/png": "[encoded data removed]",
      "text/plain": [
       "<Figure size 640x480 with 1 Axes>"
      ]
     },
     "metadata": {},
     "output_type": "display_data"
    }
   ],
   "source": [
    "df_2007 = Gapminder_df[Gapminder_df['year'] == 2007]\n",
    "sns.scatterplot(x = 'life_exp', y = 'gdp_cap', data = df_2007)"
   ]
  },
  {
   "cell_type": "code",
   "execution_count": null,
   "id": "3bb39dca-e180-446c-b43a-3942b7fd885a",
   "metadata": {},
   "outputs": [],
   "source": [
    "# Compare the average GDP per capita for each continent in the year 2007. Use a bar chart for this comparison."
   ]
  },
  {
   "cell_type": "code",
   "execution_count": 285,
   "id": "3d88219b-5dbf-440b-9802-39df54341d6c",
   "metadata": {},
   "outputs": [
    {
     "data": {
      "text/plain": [
       "Text(0.5, 1.0, 'GDP by Continent')"
      ]
     },
     "execution_count": 285,
     "metadata": {},
     "output_type": "execute_result"
    },
    {
     "data": {
      "image/png": "[encoded data removed]",
      "text/plain": [
       "<Figure size 640x480 with 1 Axes>"
      ]
     },
     "metadata": {},
     "output_type": "display_data"
    }
   ],
   "source": [
    "gdp_by_continents = df_2007.groupby('continent')['gdp_cap'].mean()\n",
    "continents = gdp_by_continents.index.tolist()\n",
    "gdp = gdp_by_continents.values.tolist()\n",
    "\n",
    "plt.bar(continents, gdp, color = ['blue', 'maroon'])\n",
    "plt.xlabel('Continent')\n",
    "plt.ylabel('GDP')\n",
    "plt.title('GDP by Continent')"
   ]
  },
  {
   "cell_type": "code",
   "execution_count": null,
   "id": "aceb8492-5daf-4d88-912c-57363381ccf4",
   "metadata": {},
   "outputs": [],
   "source": [
    "# Compare the life expectancy and GDP per capita of Afghanistan (a country known for its historical conflicts)\n",
    "# and Switzerland (representing a peaceful and economically prosperous country) using the dataset provided.\n",
    "        # Firstly, for the year 2007, use a bar chart to directly compare the life expectancy and GDP per capita between these two countries.\n",
    "        # Then, create two separate line graphs to show the trends of these two metrics over all available years in the dataset for both countries."
   ]
  },
  {
   "cell_type": "code",
   "execution_count": 286,
   "id": "f9163cd4-5c4e-44d4-a62c-9821d043557d",
   "metadata": {},
   "outputs": [
    {
     "data": {
      "text/plain": [
       "Text(0, 0.5, 'GDP')"
      ]
     },
     "execution_count": 286,
     "metadata": {},
     "output_type": "execute_result"
    },
    {
     "data": {
      "image/png": "[encoded data removed]",
      "text/plain": [
       "<Figure size 640x480 with 1 Axes>"
      ]
     },
     "metadata": {},
     "output_type": "display_data"
    }
   ],
   "source": [
    "# Bar chart\n",
    "\n",
    "Afg_Swit_2007 = df_2007[(df_2007['country'] == 'Afghanistan') | (df_2007['country'] == 'Switzerland')]\n",
    "\n",
    "X_parameter = Afg_Swit_2007['life_exp'].values.tolist()\n",
    "Y_parameter = Afg_Swit_2007['gdp_cap'].values.tolist()\n",
    "\n",
    "plt.bar(X_parameter, Y_parameter, width = 7, color = 'Olive')\n",
    "plt.title('GDP vs Life Expectancy for Afghanistan and Switzerland for 2007')\n",
    "plt.xlabel('Life Expectancy')\n",
    "plt.ylabel('GDP')"
   ]
  },
  {
   "cell_type": "code",
   "execution_count": null,
   "id": "51a79921-6026-481a-a101-c0d748f62d38",
   "metadata": {},
   "outputs": [],
   "source": [
    "# Then, create two separate line graphs to show the trends of these two metrics over all available years in the dataset for both countries."
   ]
  },
  {
   "cell_type": "code",
   "execution_count": 287,
   "id": "25815fd7-3775-46f7-8d43-a4f9eeaaeef1",
   "metadata": {},
   "outputs": [],
   "source": [
    "afg_swiss_df = Gapminder_df[(Gapminder_df['country'].isin(['Afghanistan', 'Switzerland']))]"
   ]
  },
  {
   "cell_type": "code",
   "execution_count": 276,
   "id": "4ec2f6eb-9848-495f-a8a9-77d57b895977",
   "metadata": {},
   "outputs": [
    {
     "data": {
      "text/plain": [
       "Text(0.5, 1.0, 'Life Expectancy Over Time')"
      ]
     },
     "execution_count": 276,
     "metadata": {},
     "output_type": "execute_result"
    },
    {
     "data": {
      "image/png": "[encoded data removed]",
      "text/plain": [
       "<Figure size 1000x500 with 1 Axes>"
      ]
     },
     "metadata": {},
     "output_type": "display_data"
    }
   ],
   "source": [
    "plt.figure(figsize=(10, 5))\n",
    "sns.lineplot(x='year', y='life_exp', hue='country', data=afg_swiss_df)\n",
    "plt.title('Life Expectancy Over Time')"
   ]
  },
  {
   "cell_type": "code",
   "execution_count": 277,
   "id": "cd94a211-68ec-4b3d-8c6b-d263ceb31f67",
   "metadata": {},
   "outputs": [
    {
     "data": {
      "text/plain": [
       "Text(0.5, 1.0, 'GDP per Capita Over Time')"
      ]
     },
     "execution_count": 277,
     "metadata": {},
     "output_type": "execute_result"
    },
    {
     "data": {
      "image/png": "[encoded data removed]",
      "text/plain": [
       "<Figure size 1000x500 with 1 Axes>"
      ]
     },
     "metadata": {},
     "output_type": "display_data"
    }
   ],
   "source": [
    "plt.figure(figsize=(10, 5))\n",
    "sns.lineplot(x='year', y='gdp_cap', hue='country', data=afg_swiss_df)\n",
    "plt.title('GDP per Capita Over Time')"
   ]
  },
  {
   "cell_type": "code",
   "execution_count": null,
   "id": "84214d48-222d-4482-87ee-d6dfc9570711",
   "metadata": {},
   "outputs": [],
   "source": []
  },
  {
   "cell_type": "code",
   "execution_count": null,
   "id": "0fa045d3-63bf-4c0b-b1e9-6689b8f6db0a",
   "metadata": {},
   "outputs": [],
   "source": []
  },
  {
   "cell_type": "code",
   "execution_count": null,
   "id": "98a1aa3a-34ed-44fb-a6c4-7c7ef2e9f705",
   "metadata": {},
   "outputs": [],
   "source": []
  },
  {
   "cell_type": "code",
   "execution_count": null,
   "id": "75afa8fa-5967-439a-9f36-bf95a62483d7",
   "metadata": {},
   "outputs": [],
   "source": []
  },
  {
   "cell_type": "code",
   "execution_count": null,
   "id": "af0e4bd8-405f-453e-9196-fd5f19ee04ea",
   "metadata": {},
   "outputs": [],
   "source": []
  },
  {
   "cell_type": "code",
   "execution_count": null,
   "id": "1c874428-cf6c-4795-b62f-62864f4ab15d",
   "metadata": {},
   "outputs": [],
   "source": []
  },
  {
   "cell_type": "code",
   "execution_count": null,
   "id": "52adc8b1-c924-46f4-9d35-9a8d1c3aaddd",
   "metadata": {},
   "outputs": [],
   "source": []
  },
  {
   "cell_type": "code",
   "execution_count": null,
   "id": "a443a267-78f8-4aab-8901-9b317d82bf1f",
   "metadata": {},
   "outputs": [],
   "source": []
  },
  {
   "cell_type": "code",
   "execution_count": null,
   "id": "d9fdb7dd-ae3c-432b-9bf3-1521a84570a7",
   "metadata": {},
   "outputs": [],
   "source": []
  },
  {
   "cell_type": "code",
   "execution_count": null,
   "id": "9b30157a-ecf0-4bbc-9ea4-673ab37bac8b",
   "metadata": {},
   "outputs": [],
   "source": []
  },
  {
   "cell_type": "code",
   "execution_count": null,
   "id": "3cdaba3c-0cfc-40c1-9fae-eecc1333ed57",
   "metadata": {},
   "outputs": [],
   "source": []
  },
  {
   "cell_type": "code",
   "execution_count": null,
   "id": "e52238f4-a807-413f-a5bd-4123477d0f57",
   "metadata": {},
   "outputs": [],
   "source": []
  },
  {
   "cell_type": "code",
   "execution_count": null,
   "id": "2192d821-553d-4663-9766-0fc49b09068c",
   "metadata": {},
   "outputs": [],
   "source": []
  },
  {
   "cell_type": "code",
   "execution_count": null,
   "id": "cf6d709b-e077-4c22-b119-57c98948c46c",
   "metadata": {},
   "outputs": [],
   "source": []
  },
  {
   "cell_type": "code",
   "execution_count": null,
   "id": "86fe2314-61ec-407f-b544-d29b7eb29bfa",
   "metadata": {},
   "outputs": [],
   "source": []
  },
  {
   "cell_type": "code",
   "execution_count": null,
   "id": "f834f08f-f989-4abd-8a1f-ff0e9114abed",
   "metadata": {},
   "outputs": [],
   "source": []
  },
  {
   "cell_type": "code",
   "execution_count": null,
   "id": "3b37976c-a740-4952-a25c-324894f11762",
   "metadata": {},
   "outputs": [],
   "source": []
  },
  {
   "cell_type": "code",
   "execution_count": null,
   "id": "be63a40e-a741-4dbc-8f9a-628e99e42df4",
   "metadata": {},
   "outputs": [],
   "source": []
  },
  {
   "cell_type": "code",
   "execution_count": null,
   "id": "3ea93586-fbe9-4dd5-b747-179284b66128",
   "metadata": {},
   "outputs": [],
   "source": []
  },
  {
   "cell_type": "code",
   "execution_count": null,
   "id": "834f37f7-ef5b-4cf8-9314-98b2c4e556ac",
   "metadata": {},
   "outputs": [],
   "source": []
  },
  {
   "cell_type": "code",
   "execution_count": null,
   "id": "1740121d-b32b-4eb7-b4cd-30c306a9fed3",
   "metadata": {},
   "outputs": [],
   "source": []
  }
 ],
 "metadata": {
  "kernelspec": {
   "display_name": "Python 3 (ipykernel)",
   "language": "python",
   "name": "python3"
  },
  "language_info": {
   "codemirror_mode": {
    "name": "ipython",
    "version": 3
   },
   "file_extension": ".py",
   "mimetype": "text/x-python",
   "name": "python",
   "nbconvert_exporter": "python",
   "pygments_lexer": "ipython3",
   "version": "3.11.7"
  }
 },
 "nbformat": 4,
 "nbformat_minor": 5
}
